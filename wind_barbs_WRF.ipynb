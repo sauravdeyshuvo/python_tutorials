{
 "cells": [
  {
   "cell_type": "code",
   "execution_count": 9,
   "id": "2a9bcb6b",
   "metadata": {},
   "outputs": [],
   "source": [
    "# Getting the libraries \n",
    "import os\n",
    "import re\n",
    "import netCDF4 as nc\n",
    "import matplotlib.pyplot as plt\n",
    "import cartopy.crs as ccrs\n",
    "import cartopy.feature as cfeature"
   ]
  },
  {
   "cell_type": "code",
   "execution_count": 10,
   "id": "fdb91a90",
   "metadata": {},
   "outputs": [],
   "source": [
    "# Function to extract time from filename\n",
    "def extract_time(filename):\n",
    "    match = re.search(r'\\d{4}-\\d{2}-\\d{2}_\\d{2}%3A\\d{2}%3A\\d{2}', filename)\n",
    "    return match.group() if match else 'unknown'"
   ]
  },
  {
   "cell_type": "code",
   "execution_count": 11,
   "id": "47ad6807",
   "metadata": {},
   "outputs": [],
   "source": [
    "# Specify the directory containing the WRF output files\n",
    "wrf_dir = r'D:\\PhD_works\\Simulations_output\\150424\\blowingsnow_GFS_MYJ\\with\\2020021100\\data'  # replace with your directory\n",
    "\n",
    "# Get a list of all NetCDF files in the wrf_dir\n",
    "files = [os.path.join(wrf_dir, f) for f in os.listdir(wrf_dir) if os.path.isfile(os.path.join(wrf_dir, f)) and f.startswith('wrfout')]"
   ]
  },
  {
   "cell_type": "code",
   "execution_count": 12,
   "id": "f0bee907",
   "metadata": {},
   "outputs": [
    {
     "name": "stdout",
     "output_type": "stream",
     "text": [
      "Wind plots have been saved as PNG files.\n"
     ]
    }
   ],
   "source": [
    "# Let's plot the wind now\n",
    "for file in files:\n",
    "    # Open the NetCDF file\n",
    "    ds = nc.Dataset(file)\n",
    "\n",
    "    # Extract data\n",
    "    u10 = ds.variables['U10'][0, ::10, ::10]  # Select every 10th point\n",
    "    v10 = ds.variables['V10'][0, ::10, ::10]  # Select every 10th point\n",
    "    xlat = ds.variables['XLAT'][0, ::10, ::10]  # Select every 10th point\n",
    "    xlong = ds.variables['XLONG'][0, ::10, ::10]  # Select every 10th point\n",
    "\n",
    "    # Create a new figure\n",
    "    fig = plt.figure(figsize=(10, 10))\n",
    "\n",
    "    # Create a GeoAxes in the tile's projection\n",
    "    ax = fig.add_subplot(1, 1, 1, projection=ccrs.PlateCarree())\n",
    "\n",
    "    # Add features to the map\n",
    "    ax.add_feature(cfeature.BORDERS, edgecolor = 'red')\n",
    "    ax.add_feature(cfeature.STATES, edgecolor = 'black')\n",
    "    ax.add_feature(cfeature.RIVERS, edgecolor = 'blue')\n",
    "    ax.add_feature(cfeature.LAKES, edgecolor = 'blue')\n",
    "\n",
    "    # Plot wind barbs\n",
    "    ax.barbs(xlong, xlat, u10, v10, length=5)\n",
    "\n",
    "    # Add gridlines and labels for lat/lon\n",
    "    gl = ax.gridlines(draw_labels=True)\n",
    "    gl.top_labels = gl.right_labels = False\n",
    "\n",
    "    # Extract date and time from filename\n",
    "    filename, _ = os.path.splitext(os.path.basename(file))\n",
    "    _, _, date, time = filename.split('_')\n",
    "    \n",
    "    # Keep only the date and hour\n",
    "    date, hour = date, time.split('%3A')[0]\n",
    "    datetime_str = f'{date} {hour}'\n",
    "    \n",
    "    # Set the title to include the variable name and datetime\n",
    "    ax.set_title(f'10m Wind (m/s) at {datetime_str}Z')\n",
    "\n",
    "    # Remove white spaces around the plot\n",
    "    plt.tight_layout()\n",
    "\n",
    "    # Save the figure in the script's directory\n",
    "    plt.savefig(os.path.basename(file) + '_wind_plot.png', dpi = 300, bbox_inches = 'tight')\n",
    "\n",
    "    # Close the figure to free up memory\n",
    "    plt.close(fig)\n",
    "\n",
    "print(\"Wind plots have been saved as PNG files.\")"
   ]
  },
  {
   "cell_type": "code",
   "execution_count": null,
   "id": "ae87afaf",
   "metadata": {},
   "outputs": [],
   "source": []
  }
 ],
 "metadata": {
  "kernelspec": {
   "display_name": "Python 3 (ipykernel)",
   "language": "python",
   "name": "python3"
  },
  "language_info": {
   "codemirror_mode": {
    "name": "ipython",
    "version": 3
   },
   "file_extension": ".py",
   "mimetype": "text/x-python",
   "name": "python",
   "nbconvert_exporter": "python",
   "pygments_lexer": "ipython3",
   "version": "3.9.19"
  }
 },
 "nbformat": 4,
 "nbformat_minor": 5
}
